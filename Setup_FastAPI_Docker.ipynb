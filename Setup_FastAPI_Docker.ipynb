{
 "cells": [
  {
   "cell_type": "code",
   "execution_count": 2,
   "metadata": {},
   "outputs": [
    {
     "name": "stdout",
     "output_type": "stream",
     "text": [
      "Initialized empty Git repository in 'project-root'\n"
     ]
    }
   ],
   "source": [
    "import subprocess\n",
    "import os\n",
    "def initialize_git_repo(directory: str):\n",
    "\n",
    "    essential_git_structure = [\n",
    "        \".git/config\",\n",
    "        \".git/HEAD\",\n",
    "        \".git/objects\",\n",
    "        \".git/refs\",\n",
    "        \".git/branches\",\n",
    "        \".git/hooks\",\n",
    "        \".git/info\",\n",
    "        \".git/logs\",\n",
    "        \".git/description\"\n",
    "    ]\n",
    "    \n",
    "    if all(os.path.exists(os.path.join(directory, git_item)) for git_item in essential_git_structure):\n",
    "        print(f\"Git repository already fully initialized in '{directory}'. Skipping initialization.\")\n",
    "        return\n",
    "\n",
    "\n",
    "    try:\n",
    "        subprocess.run([\"git\", \"init\", directory], check=True)\n",
    "        print(f\"Initialized empty Git repository in '{directory}'\")\n",
    "    except subprocess.CalledProcessError as e:\n",
    "        print(f\"Failed to initialize Git repository: {e}\")\n",
    "\n",
    "\n",
    "\n",
    "project_directory = \".\"\n",
    "\n",
    "initialize_git_repo(project_directory)\n"
   ]
  },
  {
   "cell_type": "markdown",
   "metadata": {},
   "source": [
    "# file"
   ]
  },
  {
   "cell_type": "code",
   "execution_count": 1,
   "metadata": {},
   "outputs": [],
   "source": [
    "import os\n",
    "def create_devcontainer_file(base_directory: str, filename: str, content: str):\n",
    "\n",
    "    full_path = os.path.join(base_directory, filename)\n",
    "    \n",
    "    os.makedirs(os.path.dirname(full_path), exist_ok=True)\n",
    "    \n",
    "    with open(full_path, \"a\", encoding=\"utf-8\") as f:\n",
    "        f.write(content)\n",
    "    \n",
    "    print(f\"{filename} created successfully inside {base_directory}!\")"
   ]
  },
  {
   "cell_type": "markdown",
   "metadata": {},
   "source": [
    "## devcontainer.json"
   ]
  },
  {
   "cell_type": "code",
   "execution_count": 2,
   "metadata": {},
   "outputs": [
    {
     "name": "stdout",
     "output_type": "stream",
     "text": [
      "devcontainer.json created successfully inside project-root/dockerfastapi/.devcontainer!\n"
     ]
    }
   ],
   "source": [
    "base_directory = \"project-root/dockerfastapi/.devcontainer\"\n",
    "filename = \"devcontainer.json\"\n",
    "content = \"\"\"\n",
    "\n",
    "{\n",
    "  \"name\": \"FastAPI Docker Development\",\n",
    "  \"dockerComposeFile\": [\n",
    "    \"../docker-compose.yml\"\n",
    "  ],\n",
    "  \"service\": \"fastapi-app\",\n",
    "  \"workspaceFolder\": \"/app\",\n",
    "  \"features\": {\n",
    "    \"docker-in-docker\": \"latest\"\n",
    "  },\n",
    "  \"extensions\": [\"ms-python.python\"],\n",
    "  \"settings\": {\n",
    "    \"python.defaultInterpreterPath\": \"/usr/local/bin/python\"\n",
    "  },\n",
    "  \"appPort\": [8000],\n",
    "  \"runServices\": [\"fastapi-app\"],\n",
    "  \"remoteUser\": \"root\"\n",
    "}\n",
    "\n",
    "\"\"\"\n",
    "\n",
    "create_devcontainer_file(base_directory, filename, content)"
   ]
  },
  {
   "cell_type": "markdown",
   "metadata": {},
   "source": [
    "## main.py"
   ]
  },
  {
   "cell_type": "code",
   "execution_count": 3,
   "metadata": {},
   "outputs": [
    {
     "name": "stdout",
     "output_type": "stream",
     "text": [
      "main.py created successfully inside project-root/dockerfastapi/app!\n"
     ]
    }
   ],
   "source": [
    "base_directory = \"project-root/dockerfastapi/app\"\n",
    "filename = \"main.py\"\n",
    "content =\"\"\"\n",
    "\n",
    "from fastapi import FastAPI\n",
    "\n",
    "app = FastAPI()\n",
    "\n",
    "@app.get(\"/\")\n",
    "def read_root():\n",
    "    return {\"Message\": \"Hello, Docker and FastAPI\"}\n",
    "\n",
    "\"\"\"\n",
    "create_devcontainer_file(base_directory, filename, content)"
   ]
  },
  {
   "cell_type": "markdown",
   "metadata": {},
   "source": [
    "## __init__.py"
   ]
  },
  {
   "cell_type": "code",
   "execution_count": 4,
   "metadata": {},
   "outputs": [
    {
     "name": "stdout",
     "output_type": "stream",
     "text": [
      "__init__.py created successfully inside project-root/dockerfastapi/app!\n"
     ]
    }
   ],
   "source": [
    "base_directory = \"project-root/dockerfastapi/app\"\n",
    "filename = \"__init__.py\"\n",
    "content =\"\"\"\n",
    "\n",
    "from fastapi import FastAPI\n",
    "\n",
    "# Application configuration\n",
    "app = FastAPI(\n",
    "    title=\"My FastAPI Application\",\n",
    "    description=\"An API built with FastAPI and Docker.\",\n",
    "    version=\"1.0.0\"\n",
    ")\n",
    "\n",
    "# Import routers or additional modules if needed\n",
    "# from . import routes  # Example: import routes if you have a routes.py file\n",
    "\n",
    "\"\"\"\n",
    "create_devcontainer_file(base_directory, filename, content)"
   ]
  },
  {
   "cell_type": "markdown",
   "metadata": {},
   "source": [
    "## docker-compose.yml\n"
   ]
  },
  {
   "cell_type": "code",
   "execution_count": 5,
   "metadata": {},
   "outputs": [
    {
     "name": "stdout",
     "output_type": "stream",
     "text": [
      "docker-compose.yml created successfully inside project-root/dockerfastapi!\n"
     ]
    }
   ],
   "source": [
    "base_directory = \"project-root/dockerfastapi\"\n",
    "filename = \"docker-compose.yml\"\n",
    "content =\"\"\"\n",
    "\n",
    "services:\n",
    "  fastapi-app:\n",
    "    build: .\n",
    "    ports:\n",
    "      - \"8000:8000\"\n",
    "    volumes:\n",
    "      - .:/app\n",
    "    command: [\"uvicorn\",\n",
    "              \"app.main:app\",\n",
    "              \"--host\",\n",
    "              \"0.0.0.0\",\n",
    "              \"--port\",\n",
    "              \"8000\",\n",
    "              \"--reload\"]\n",
    "\n",
    "\"\"\"\n",
    "create_devcontainer_file(base_directory, filename, content)"
   ]
  },
  {
   "cell_type": "markdown",
   "metadata": {},
   "source": [
    "## Dockerfile\n"
   ]
  },
  {
   "cell_type": "code",
   "execution_count": 6,
   "metadata": {},
   "outputs": [
    {
     "name": "stdout",
     "output_type": "stream",
     "text": [
      "Dockerfile created successfully inside project-root/dockerfastapi!\n"
     ]
    }
   ],
   "source": [
    "base_directory = \"project-root/dockerfastapi\"\n",
    "filename = \"Dockerfile\"\n",
    "content =\"\"\"\n",
    "\n",
    "# Use the official Python image as the base\n",
    "FROM python:3.9-slim\n",
    "\n",
    "# Set the working directory inside the container\n",
    "WORKDIR /app\n",
    "\n",
    "# Install the required packages\n",
    "COPY requirements.txt .\n",
    "RUN pip install --no-cache-dir -r requirements.txt\n",
    "\n",
    "# Copy the application files\n",
    "COPY . /app\n",
    "\n",
    "# Expose the port and run the application\n",
    "EXPOSE 8000\n",
    "CMD [\"uvicorn\", \"app.main:app\", \"--host\", \"0.0.0.0\", \"--port\", \"8000\"]\n",
    "\n",
    "\n",
    "\"\"\"\n",
    "create_devcontainer_file(base_directory, filename, content)"
   ]
  },
  {
   "cell_type": "markdown",
   "metadata": {},
   "source": [
    "## requirements.txt\n"
   ]
  },
  {
   "cell_type": "code",
   "execution_count": 7,
   "metadata": {},
   "outputs": [
    {
     "name": "stdout",
     "output_type": "stream",
     "text": [
      "requirements.txt created successfully inside project-root/dockerfastapi!\n"
     ]
    }
   ],
   "source": [
    "base_directory = \"project-root/dockerfastapi\"\n",
    "filename = \"requirements.txt\"\n",
    "content =\"\"\" \n",
    "fastapi\n",
    "uvicorn\n",
    "\"\"\"\n",
    "create_devcontainer_file(base_directory, filename, content)"
   ]
  },
  {
   "cell_type": "markdown",
   "metadata": {},
   "source": [
    "## .gitignore"
   ]
  },
  {
   "cell_type": "code",
   "execution_count": 8,
   "metadata": {},
   "outputs": [
    {
     "name": "stdout",
     "output_type": "stream",
     "text": [
      ".gitignore created successfully inside project-root/dockerfastapi!\n"
     ]
    }
   ],
   "source": [
    "base_directory = \"project-root/dockerfastapi\"\n",
    "filename = \".gitignore\"\n",
    "content =\"\"\"\n",
    "\n",
    "\"\"\"\n",
    "\n",
    "create_devcontainer_file(base_directory, filename, content)"
   ]
  },
  {
   "cell_type": "markdown",
   "metadata": {},
   "source": [
    "# Docker"
   ]
  },
  {
   "cell_type": "markdown",
   "metadata": {},
   "source": [
    "## compose"
   ]
  },
  {
   "cell_type": "code",
   "execution_count": 9,
   "metadata": {},
   "outputs": [
    {
     "name": "stdout",
     "output_type": "stream",
     "text": [
      "#0 building with \"desktop-linux\" instance using docker driver\n",
      "\n",
      "#1 [fastapi-app internal] load build definition from Dockerfile\n",
      "#1 transferring dockerfile: 467B 0.0s done\n",
      "#1 DONE 0.1s\n",
      "\n",
      "#2 [fastapi-app internal] load metadata for docker.io/library/python:3.9-slim\n",
      "#2 ...\n",
      "\n",
      "#3 [fastapi-app auth] library/python:pull token for registry-1.docker.io\n",
      "#3 DONE 0.0s\n",
      "\n",
      "#2 [fastapi-app internal] load metadata for docker.io/library/python:3.9-slim\n",
      "#2 DONE 1.4s\n",
      "\n",
      "#4 [fastapi-app internal] load .dockerignore\n",
      "#4 transferring context: 2B 0.0s done\n",
      "#4 DONE 0.0s\n",
      "\n",
      "#5 [fastapi-app internal] load build context\n",
      "#5 transferring context: 2.04kB 0.0s done\n",
      "#5 DONE 0.0s\n"
     ]
    },
    {
     "name": "stderr",
     "output_type": "stream",
     "text": [
      " Network dockerfastapi_default  Creating\n",
      " Network dockerfastapi_default  Created\n",
      " Container dockerfastapi-fastapi-app-1  Creating\n",
      " Container dockerfastapi-fastapi-app-1  Created\n",
      " Container dockerfastapi-fastapi-app-1  Starting\n",
      " Container dockerfastapi-fastapi-app-1  Started\n"
     ]
    },
    {
     "name": "stdout",
     "output_type": "stream",
     "text": [
      "\n",
      "#6 [fastapi-app 1/5] FROM docker.io/library/python:3.9-slim@sha256:7a9cd42706c174cdcf578880ab9ae3b6551323a7ddbc2a89ad6e5b20a28fbfbe\n",
      "#6 resolve docker.io/library/python:3.9-slim@sha256:7a9cd42706c174cdcf578880ab9ae3b6551323a7ddbc2a89ad6e5b20a28fbfbe 0.0s done\n",
      "#6 DONE 0.0s\n",
      "\n",
      "#7 [fastapi-app 2/5] WORKDIR /app\n",
      "#7 CACHED\n",
      "\n",
      "#8 [fastapi-app 3/5] COPY requirements.txt .\n",
      "#8 CACHED\n",
      "\n",
      "#9 [fastapi-app 4/5] RUN pip install --no-cache-dir -r requirements.txt\n",
      "#9 CACHED\n",
      "\n",
      "#10 [fastapi-app 5/5] COPY . /app\n",
      "#10 CACHED\n",
      "\n",
      "#11 [fastapi-app] exporting to image\n",
      "#11 exporting layers done\n",
      "#11 exporting manifest sha256:74182d95cee71af95c80f9e5d4677cfb167da478c8cd7122bc5e89080cb7ee7c 0.0s done\n",
      "#11 exporting config sha256:b3657aaf5dd3836eef94f964f39704c6c2d887852fb64ea0251e52fd3648c2c0 0.0s done\n",
      "#11 exporting attestation manifest sha256:faefa0cad51e3fbfe3c572ea5a891952164d025c092f1387dd33975adad08f14 0.0s done\n",
      "#11 exporting manifest list sha256:e79d3249863c5f7ded721721ab8eaf78ad02ecf89c1d849bbed0cbb8c6e3222d 0.0s done\n",
      "#11 naming to docker.io/library/dockerfastapi-fastapi-app:latest done\n",
      "#11 unpacking to docker.io/library/dockerfastapi-fastapi-app:latest\n",
      "#11 unpacking to docker.io/library/dockerfastapi-fastapi-app:latest 0.5s done\n",
      "#11 DONE 0.6s\n",
      "\n",
      "#12 [fastapi-app] resolving provenance for metadata file\n",
      "#12 DONE 0.0s\n"
     ]
    }
   ],
   "source": [
    "!cd project-root/dockerfastapi && docker-compose up -d\n"
   ]
  },
  {
   "cell_type": "markdown",
   "metadata": {},
   "source": [
    "## ps"
   ]
  },
  {
   "cell_type": "code",
   "execution_count": 10,
   "metadata": {},
   "outputs": [
    {
     "name": "stdout",
     "output_type": "stream",
     "text": [
      "NAME                          IMAGE                       COMMAND                  SERVICE       CREATED        STATUS        PORTS\n",
      "dockerfastapi-fastapi-app-1   dockerfastapi-fastapi-app   \"uvicorn app.main:ap…\"   fastapi-app   1 second ago   Up 1 second   0.0.0.0:8000->8000/tcp\n"
     ]
    }
   ],
   "source": [
    "!cd project-root/dockerfastapi && docker-compose ps\n"
   ]
  },
  {
   "cell_type": "markdown",
   "metadata": {},
   "source": [
    "## version"
   ]
  },
  {
   "cell_type": "code",
   "execution_count": 11,
   "metadata": {},
   "outputs": [
    {
     "name": "stdout",
     "output_type": "stream",
     "text": [
      "Docker version 27.2.0, build 3ab4256\n"
     ]
    }
   ],
   "source": [
    "!docker --version"
   ]
  }
 ],
 "metadata": {
  "kernelspec": {
   "display_name": "Python 3",
   "language": "python",
   "name": "python3"
  },
  "language_info": {
   "codemirror_mode": {
    "name": "ipython",
    "version": 3
   },
   "file_extension": ".py",
   "mimetype": "text/x-python",
   "name": "python",
   "nbconvert_exporter": "python",
   "pygments_lexer": "ipython3",
   "version": "3.13.0"
  }
 },
 "nbformat": 4,
 "nbformat_minor": 2
}
