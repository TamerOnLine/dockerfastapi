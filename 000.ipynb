{
 "cells": [
  {
   "cell_type": "code",
   "execution_count": 1,
   "metadata": {},
   "outputs": [],
   "source": [
    "import os  # Import the os library to interact with the file system\n",
    "import subprocess  # Importing subprocess to run system-level commands\n"
   ]
  },
  {
   "cell_type": "code",
   "execution_count": 2,
   "metadata": {},
   "outputs": [],
   "source": [
    "# Ensure the \"project-root\" directory exists\n",
    "# If the directory doesn't exist, it will be created\n",
    "os.makedirs(\"project-root\", exist_ok=True)"
   ]
  },
  {
   "cell_type": "code",
   "execution_count": 3,
   "metadata": {},
   "outputs": [],
   "source": [
    "# Ensure the directory \"project-root/dockerfastapi\" exists\n",
    "# If the directory path doesn't exist, it will be created, including any intermediate directories\n",
    "os.makedirs(\"project-root/dockerfastapi\", exist_ok=True)"
   ]
  },
  {
   "cell_type": "code",
   "execution_count": 4,
   "metadata": {},
   "outputs": [],
   "source": [
    "# Ensure the base directory \"project-root\" exists\n",
    "# If it doesn't exist, it will be created\n",
    "os.makedirs(\"project-root\", exist_ok=True)\n",
    "\n",
    "# Create the .gitignore file inside the \"project-root\" directory\n",
    "with open(\"project-root/.gitignore\", \"w\") as file:\n",
    "    # Write a comment as a placeholder in the .gitignore file\n",
    "    file.write(\"# Add patterns to ignore\\n\")"
   ]
  },
  {
   "cell_type": "code",
   "execution_count": 5,
   "metadata": {},
   "outputs": [],
   "source": [
    "# Ensure the \"project-root/dockerfastapi/.devcontainer\" directory exists\n",
    "# If it doesn't exist, it will be created, including any intermediate directories\n",
    "os.makedirs(\"project-root/dockerfastapi/.devcontainer\", exist_ok=True)"
   ]
  },
  {
   "cell_type": "code",
   "execution_count": 6,
   "metadata": {},
   "outputs": [
    {
     "name": "stdout",
     "output_type": "stream",
     "text": [
      "devcontainer.json created successfully inside the .devcontainer folder!\n"
     ]
    }
   ],
   "source": [
    "# Ensure the directory path \"project-root/dockerfastapi/.devcontainer\" exists\n",
    "os.makedirs(\"project-root/dockerfastapi/.devcontainer\", exist_ok=True)\n",
    "\n",
    "# JSON content for the devcontainer.json file\n",
    "code_json = \"\"\"\n",
    "{\n",
    "  \"name\": \"FastAPI Docker Development\",\n",
    "  \"dockerComposeFile\": [\n",
    "    \"../docker-compose.yml\"\n",
    "  ],\n",
    "  \"service\": \"fastapi-app\",\n",
    "  \"workspaceFolder\": \"/app\",\n",
    "  \"features\": {\n",
    "    \"docker-in-docker\": \"latest\"\n",
    "  },\n",
    "  \"extensions\": [\"ms-python.python\"],\n",
    "  \"settings\": {\n",
    "    \"python.defaultInterpreterPath\": \"/usr/local/bin/python\"\n",
    "  },\n",
    "  \"appPort\": [8000],\n",
    "  \"runServices\": [\"fastapi-app\"],\n",
    "  \"remoteUser\": \"root\"\n",
    "}\n",
    "\n",
    "\"\"\"\n",
    "\n",
    "# Write the content to the devcontainer.json file inside the .devcontainer folder\n",
    "with open(\"project-root/dockerfastapi/.devcontainer/devcontainer.json\", \"w\", encoding=\"utf-8\") as f:\n",
    "    f.write(code_json)\n",
    "\n",
    "print(\"devcontainer.json created successfully inside the .devcontainer folder!\")\n"
   ]
  },
  {
   "cell_type": "code",
   "execution_count": 7,
   "metadata": {},
   "outputs": [
    {
     "name": "stdout",
     "output_type": "stream",
     "text": [
      "app directory created successfully inside dockerfastapi folder!\n"
     ]
    }
   ],
   "source": [
    "# Ensure the \"app\" directory exists inside \"project-root/dockerfastapi\"\n",
    "os.makedirs(\"project-root/dockerfastapi/app\", exist_ok=True)\n",
    "\n",
    "print(\"app directory created successfully inside dockerfastapi folder!\")\n"
   ]
  },
  {
   "cell_type": "code",
   "execution_count": 8,
   "metadata": {},
   "outputs": [
    {
     "name": "stdout",
     "output_type": "stream",
     "text": [
      "main.py file created successfully inside the app folder with FastAPI code!\n"
     ]
    }
   ],
   "source": [
    "# Code content for main.py\n",
    "main_py_content = \"\"\"\n",
    "from fastapi import FastAPI\n",
    "\n",
    "app = FastAPI()\n",
    "\n",
    "@app.get(\"/\")\n",
    "def read_root():\n",
    "    return {\"Message\": \"Hello, Docker and FastAPI\"}\n",
    "\"\"\"\n",
    "\n",
    "# Create the main.py file inside the app directory with the specified content\n",
    "with open(\"project-root/dockerfastapi/app/main.py\", \"w\", encoding=\"utf-8\") as f:\n",
    "    f.write(main_py_content)\n",
    "\n",
    "print(\"main.py file created successfully inside the app folder with FastAPI code!\")\n"
   ]
  },
  {
   "cell_type": "code",
   "execution_count": 9,
   "metadata": {},
   "outputs": [
    {
     "name": "stdout",
     "output_type": "stream",
     "text": [
      "config.py created successfully inside project-root/dockerfastapi/app!\n"
     ]
    }
   ],
   "source": [
    "# Content for config.py\n",
    "config_content = \"\"\" \n",
    "from fastapi import FastAPI\n",
    "\n",
    "# Application configuration\n",
    "app = FastAPI(\n",
    "    title=\"My FastAPI Application\",\n",
    "    description=\"An API built with FastAPI and Docker.\",\n",
    "    version=\"1.0.0\"\n",
    ")\n",
    "\n",
    "# Import routers or additional modules if needed\n",
    "# from . import routes  # Example: import routes if you have a routes.py file\n",
    "\"\"\"\n",
    "\n",
    "\n",
    "# Write the config.py file in the specified directory\n",
    "with open(\"project-root/dockerfastapi/app/__init__.py\", \"w\", encoding=\"utf-8\") as f:\n",
    "    f.write(config_content)\n",
    "\n",
    "print(\"config.py created successfully inside project-root/dockerfastapi/app!\")\n"
   ]
  },
  {
   "cell_type": "code",
   "execution_count": 10,
   "metadata": {},
   "outputs": [
    {
     "name": "stdout",
     "output_type": "stream",
     "text": [
      "docker-compose.yml created successfully inside project-root/dockerfastapi!\n"
     ]
    }
   ],
   "source": [
    "# Ensure the docker-compose.yml is created inside the \"project-root/dockerfastapi\" directory\n",
    "code_docker_compose = \"\"\" \n",
    "services:\n",
    "  fastapi-app:\n",
    "    build: .\n",
    "    ports:\n",
    "      - \"8000:8000\"\n",
    "    volumes:\n",
    "      - .:/app\n",
    "    command: [\"uvicorn\", \"app.main:app\", \"--host\", \"0.0.0.0\", \"--port\", \"8000\", \"--reload\"]\n",
    "\"\"\"\n",
    "\n",
    "# Write the docker-compose content to the file\n",
    "with open('project-root/dockerfastapi/docker-compose.yml', 'w', encoding='utf-8') as f:\n",
    "    f.write(code_docker_compose)\n",
    "\n",
    "print(\"docker-compose.yml created successfully inside project-root/dockerfastapi!\")\n",
    "\n"
   ]
  },
  {
   "cell_type": "code",
   "execution_count": 11,
   "metadata": {},
   "outputs": [
    {
     "name": "stdout",
     "output_type": "stream",
     "text": [
      "Dockerfile created successfully inside project-root/dockerfastapi!\n"
     ]
    }
   ],
   "source": [
    "# Dockerfile content\n",
    "code_dockerfile = \"\"\" \n",
    "# Use the official Python image as the base\n",
    "FROM python:3.9-slim\n",
    "\n",
    "# Set the working directory inside the container\n",
    "WORKDIR /app\n",
    "\n",
    "# Install the required packages\n",
    "COPY requirements.txt .\n",
    "RUN pip install --no-cache-dir -r requirements.txt\n",
    "\n",
    "# Copy the application files\n",
    "COPY . /app\n",
    "\n",
    "# Expose the port and run the application\n",
    "EXPOSE 8000\n",
    "CMD [\"uvicorn\", \"app.main:app\", \"--host\", \"0.0.0.0\", \"--port\", \"8000\"]\n",
    "\"\"\"\n",
    "\n",
    "# Write the Dockerfile inside the dockerfastapi directory\n",
    "with open('project-root/dockerfastapi/Dockerfile', 'w', encoding='utf-8') as f:\n",
    "    f.write(code_dockerfile)\n",
    "\n",
    "print(\"Dockerfile created successfully inside project-root/dockerfastapi!\")\n"
   ]
  },
  {
   "cell_type": "code",
   "execution_count": 12,
   "metadata": {},
   "outputs": [
    {
     "name": "stdout",
     "output_type": "stream",
     "text": [
      "requirements.txt created successfully inside project-root/dockerfastapi!\n"
     ]
    }
   ],
   "source": [
    "# Content for requirements.txt\n",
    "code_requirements = \"\"\" \n",
    "fastapi\n",
    "uvicorn\n",
    "\"\"\"\n",
    "\n",
    "# Write the requirements.txt file inside the dockerfastapi directory\n",
    "with open('project-root/dockerfastapi/requirements.txt', 'w', encoding='utf-8') as f:\n",
    "    f.write(code_requirements)\n",
    "\n",
    "print(\"requirements.txt created successfully inside project-root/dockerfastapi!\")\n"
   ]
  },
  {
   "cell_type": "code",
   "execution_count": 13,
   "metadata": {},
   "outputs": [
    {
     "name": "stdout",
     "output_type": "stream",
     "text": [
      "README.md created successfully inside project-root!\n"
     ]
    }
   ],
   "source": [
    "# Content for README.md\n",
    "readme_content = \"\"\" \n",
    "# Project Root\n",
    "\n",
    "This is the main README file for the entire project located at the project root.\n",
    "\n",
    "## Project Overview\n",
    "\n",
    "- **dockerfastapi/**: Contains the FastAPI application with Docker support.\n",
    "- **README.md**: Main README file describing the project overview and structure.\n",
    "\n",
    "## Usage\n",
    "\n",
    "Follow the instructions within each subdirectory (such as `dockerfastapi`) for more details.\n",
    "\"\"\"\n",
    "\n",
    "# Define the exact path for the README.md file at the project root\n",
    "file_path = 'project-root/README.md'\n",
    "\n",
    "# Ensure the project-root directory exists\n",
    "os.makedirs(os.path.dirname(file_path), exist_ok=True)\n",
    "\n",
    "# Write the README.md file in the project root directory\n",
    "with open(file_path, 'w', encoding='utf-8') as f:\n",
    "    f.write(readme_content)\n",
    "\n",
    "print(\"README.md created successfully inside project-root!\")\n"
   ]
  },
  {
   "cell_type": "code",
   "execution_count": 14,
   "metadata": {},
   "outputs": [],
   "source": [
    "import json\n",
    "\n",
    "cells = [\n",
    "    {\"cell_type\": \"markdown\", \"metadata\": {}, \"source\": [\"[index](http://localhost:8000)\"]},\n",
    "    {\"cell_type\": \"markdown\", \"metadata\": {}, \"source\": [\"[docs](http://localhost:8000/docs)\"]}\n",
    "]\n",
    "\n",
    "notebook_content = {\n",
    "    \"cells\": cells,\n",
    "    \"metadata\": {},\n",
    "    \"nbformat\": 4,\n",
    "    \"nbformat_minor\": 2\n",
    "}\n",
    "\n",
    "with open('project-root/web.ipynb', 'w', encoding='utf-8') as f:\n",
    "    json.dump(notebook_content, f, ensure_ascii=False, indent=2)\n"
   ]
  },
  {
   "cell_type": "markdown",
   "metadata": {},
   "source": [
    "---"
   ]
  },
  {
   "cell_type": "markdown",
   "metadata": {},
   "source": [
    "## git"
   ]
  },
  {
   "cell_type": "code",
   "execution_count": 15,
   "metadata": {},
   "outputs": [
    {
     "data": {
      "text/plain": [
       "{'ignore_content': '# Ignore log files\\n*.log\\n.*\\n\\n# Ignore node_modules folder\\n/node_modules/\\n\\n# Ignore secret files\\nsecrets.txt\\n\\n# Ignore all hidden files (starting with .)\\n.git/\\n.gitignore\\n\\n# Ignore temporary files\\ntemp_*\\nc*.ipynb\\nssh-keygen*\\n',\n",
       " 'code_of_conduct_content': '# Contributor Covenant Code of Conduct\\n\\n## Our Pledge\\nWe as members, contributors, and leaders pledge to make participation in our community a harassment-free experience for everyone...\\n\\nFor the full text, refer to https://www.contributor-covenant.org/version/2/0/code_of_conduct/.\\n',\n",
       " 'contributing_content': '# Contributing Guidelines\\n\\nWe welcome contributions to this project! Please follow these guidelines:\\n\\n1. Fork the repository.\\n2. Create a new branch for your feature or bug fix.\\n3. Submit a pull request.\\n\\nThank you for your contributions!\\n',\n",
       " 'license_content': 'MIT License\\n\\nCopyright (c) 2024 Your mystrotamer\\n\\nPermission is hereby granted, free of charge, to any person obtaining a copy\\nof this software and associated documentation files (the \"Software\"), to deal\\nin the Software without restriction, including without limitation the rights\\nto use, copy, modify, merge, publish, distribute, sublicense, and/or sell\\ncopies of the Software, and to permit persons to whom the Software is\\nfurnished to do so, subject to the following conditions...\\n\\nFor the full text of the MIT License, refer to https://opensource.org/licenses/MIT.\\n',\n",
       " 'readme_content': '# Project Name\\n\\n## Description\\nThis project provides a clear and concise solution for a real-world problem involving efficient data processing and analysis using Python. It is built using popular libraries such as Pandas, NumPy, and Matplotlib, focusing on performance, scalability, and ease of use.\\n\\n## Features\\n- **Data Loading**: Load datasets from various formats like CSV, Excel, or SQL databases efficiently.\\n- **Data Cleaning**: Perform comprehensive data cleaning operations, including handling missing values, data normalization, and feature engineering.\\n- **Data Visualization**: Create insightful visualizations using Matplotlib and Seaborn for data analysis and reporting.\\n- **Modular Design**: The project follows a modular design approach, making it easy to extend and integrate with other systems.\\n- **Unit Testing**: Built-in unit tests for all functions ensure code reliability and robustness.\\n\\n## Installation\\nTo get started with this project, follow these steps:\\n\\n1. **Clone the repository**:\\n   ```bash\\n   git clone https://github.com/yourusername/repository_name.git\\n   cd repository_name\\n',\n",
       " 'security_content': '# Security Policy\\n\\n## Reporting a Vulnerability\\n\\nIf you find a vulnerability, please email us at security@example.com. We will review and respond to your report within a reasonable timeframe.\\n',\n",
       " 'bug_report_content': \"---\\nname: Bug report\\nabout: Create a report to help us improve\\ntitle: ''\\nlabels: bug\\nassignees: ''\\n\\n---\\n\\n**Describe the bug**\\nA clear and concise description of what the bug is.\\n\\n**To Reproduce**\\nSteps to reproduce the behavior:\\n1. Go to '...'\\n2. Click on '....'\\n3. Scroll down to '....'\\n4. See error\\n\\n**Expected behavior**\\nA clear and concise description of what you expected to happen.\\n\\n**Screenshots**\\nIf applicable, add screenshots to help explain your problem.\\n\\n**Additional context**\\nAdd any other context about the problem here.\\n\",\n",
       " 'config_content': 'blank_issues_enabled: false\\ncontact_links:\\n  - name: Bug Report\\n    url: https://github.com/TamerOnLine/creategit/issues/new?template=bug_report.md\\n    about: Create a report to help us improve\\n',\n",
       " 'dependabot_content': 'version: 2\\nupdates:\\n  - package-ecosystem: \"pip\"\\n    directory: \"/\"\\n    schedule:\\n      interval: \"weekly\"\\n',\n",
       " 'pull_request_template_content': '# Pull Request\\n\\n## Description\\nPlease include a summary of the change and which issue is fixed.\\n\\n## Checklist:\\n\\n- [ ] My code follows the style guidelines of this project.\\n- [ ] I have performed a self-review of my code.\\n- [ ] I have commented my code, particularly in hard-to-understand areas.\\n- [ ] I have made corresponding changes to the documentation.\\n',\n",
       " 'code_content': 'import os  # Importing the os module to interact with the operating system\\nimport subprocess  # Importing subprocess to run system-level commands\\n\\n# Check if the .git directory exists\\nif not os.path.isdir(\".git\"):  \\n    # If .git doesn\\'t exist, run the git init command\\n    result = subprocess.run(\\n        [\"git\", \"init\"],  # List of command arguments: \\'git init\\' initializes a new Git repository\\n        capture_output=True,  # Capture the standard output and error streams\\n        text=True  # Output should be captured as a string, not bytes\\n    )\\n    print(result.stdout)  # Print the standard output (stdout) of the command\\nelse:\\n    print(\"Git repository already initialized.\")  # Inform the user that the repository is already initialized\\n',\n",
       " 'remote_repo_content': '# User and repository details\\nuser = \\'TamerOnLine\\'\\nname_git = \"FastAPI-Docker-Setup\"\\n\\ntry:\\n    # Check if the remote \\'origin\\' exists by retrieving its URL\\n    result = subprocess.run(\\n        [\"git\", \"remote\", \"get-url\", \"origin\"],  # Command to get the URL of the remote \\'origin\\'\\n        capture_output=True,  # Capture the output for later processing\\n        text=True,  # Return output as a string\\n        check=True  # Raise an error if the command fails\\n    )\\n    print(f\"Remote \\'origin\\' already exists with URL: {result.stdout.strip()}\")\\n\\n    # If \\'origin\\' exists, update its URL to the specified repository\\n    subprocess.run(\\n        [\"git\", \"remote\", \"set-url\", \"origin\", f\"https://github.com/{user}/{name_git}.git\"],\\n        check=True\\n    )\\n    print(f\"Updated remote \\'origin\\' to https://github.com/{user}/{name_git}.git\")\\nexcept subprocess.CalledProcessError:\\n    # If \\'origin\\' does not exist, add it with the specified URL\\n    subprocess.run(\\n        [\"git\", \"remote\", \"add\", \"origin\", f\"https://github.com/{user}/{name_git}.git\"],\\n        check=True\\n    )\\n    print(f\"Added remote \\'origin\\' with URL: https://github.com/{user}/{name_git}.git\")\\n',\n",
       " 'add_files_content': 'try:\\n    # Run the git add command to add all files\\n    subprocess.run([\"git\", \"add\", \".\"], check=True)\\n    print(\"All files added to the staging area successfully.\")\\nexcept subprocess.CalledProcessError:\\n    print(\"Failed to add files to the staging area.\")\\n',\n",
       " 'commit_content': '# Define the commit message\\ncommits = \"v.01\"\\n\\ntry:\\n    # Commit the changes with the specified commit message\\n    subprocess.run([\"git\", \"commit\", \"-m\", commits], check=True)\\n    print(f\"Committed changes with message: \\'{commits}\\'\")\\nexcept subprocess.CalledProcessError as e:\\n    print(f\"Failed to commit changes: {e}\")\\n',\n",
       " 'rename_branch_content': 'try:\\n    # Rename the current branch to \\'main\\'\\n    subprocess.run([\"git\", \"branch\", \"-M\", \"main\"], check=True)\\n    print(\"Branch renamed to \\'main\\' successfully.\")\\nexcept subprocess.CalledProcessError as e:\\n    print(f\"Failed to rename the branch: {e}\")\\n',\n",
       " 'pull_content': 'try:\\n    # Pull from the \\'main\\' branch of \\'origin\\' with --allow-unrelated-histories\\n    subprocess.run([\"git\", \"pull\", \"origin\", \"main\", \"--allow-unrelated-histories\"], check=True)\\n    print(\"Successfully pulled from \\'origin/main\\' with --allow-unrelated-histories.\")\\nexcept subprocess.CalledProcessError as e:\\n    print(f\"Failed to pull from \\'origin/main\\': {e}\")\\n',\n",
       " 'push_content': 'try:\\n    # Push to the \\'main\\' branch on \\'origin\\' and set upstream\\n    subprocess.run([\"git\", \"push\", \"-u\", \"origin\", \"main\"], check=True)\\n    print(\"Successfully pushed to \\'origin/main\\' and set upstream tracking.\")\\nexcept subprocess.CalledProcessError as e:\\n    print(f\"Failed to push to \\'origin/main\\': {e}\")\\n'}"
      ]
     },
     "execution_count": 15,
     "metadata": {},
     "output_type": "execute_result"
    }
   ],
   "source": [
    "{\n",
    "  \"ignore_content\": \"# Ignore log files\\n*.log\\n.*\\n\\n# Ignore node_modules folder\\n/node_modules/\\n\\n# Ignore secret files\\nsecrets.txt\\n\\n# Ignore all hidden files (starting with .)\\n.git/\\n.gitignore\\n\\n# Ignore temporary files\\ntemp_*\\nc*.ipynb\\nssh-keygen*\\n\",\n",
    "  \"code_of_conduct_content\": \"# Contributor Covenant Code of Conduct\\n\\n## Our Pledge\\nWe as members, contributors, and leaders pledge to make participation in our community a harassment-free experience for everyone...\\n\\nFor the full text, refer to https://www.contributor-covenant.org/version/2/0/code_of_conduct/.\\n\",\n",
    "  \"contributing_content\": \"# Contributing Guidelines\\n\\nWe welcome contributions to this project! Please follow these guidelines:\\n\\n1. Fork the repository.\\n2. Create a new branch for your feature or bug fix.\\n3. Submit a pull request.\\n\\nThank you for your contributions!\\n\",\n",
    "  \"license_content\": \"MIT License\\n\\nCopyright (c) 2024 Your mystrotamer\\n\\nPermission is hereby granted, free of charge, to any person obtaining a copy\\nof this software and associated documentation files (the \\\"Software\\\"), to deal\\nin the Software without restriction, including without limitation the rights\\nto use, copy, modify, merge, publish, distribute, sublicense, and/or sell\\ncopies of the Software, and to permit persons to whom the Software is\\nfurnished to do so, subject to the following conditions...\\n\\nFor the full text of the MIT License, refer to https://opensource.org/licenses/MIT.\\n\",\n",
    "  \"readme_content\": \"# Project Name\\n\\n## Description\\nThis project provides a clear and concise solution for a real-world problem involving efficient data processing and analysis using Python. It is built using popular libraries such as Pandas, NumPy, and Matplotlib, focusing on performance, scalability, and ease of use.\\n\\n## Features\\n- **Data Loading**: Load datasets from various formats like CSV, Excel, or SQL databases efficiently.\\n- **Data Cleaning**: Perform comprehensive data cleaning operations, including handling missing values, data normalization, and feature engineering.\\n- **Data Visualization**: Create insightful visualizations using Matplotlib and Seaborn for data analysis and reporting.\\n- **Modular Design**: The project follows a modular design approach, making it easy to extend and integrate with other systems.\\n- **Unit Testing**: Built-in unit tests for all functions ensure code reliability and robustness.\\n\\n## Installation\\nTo get started with this project, follow these steps:\\n\\n1. **Clone the repository**:\\n   ```bash\\n   git clone https://github.com/yourusername/repository_name.git\\n   cd repository_name\\n\",\n",
    "  \"security_content\": \"# Security Policy\\n\\n## Reporting a Vulnerability\\n\\nIf you find a vulnerability, please email us at security@example.com. We will review and respond to your report within a reasonable timeframe.\\n\",\n",
    "  \"bug_report_content\": \"---\\nname: Bug report\\nabout: Create a report to help us improve\\ntitle: ''\\nlabels: bug\\nassignees: ''\\n\\n---\\n\\n**Describe the bug**\\nA clear and concise description of what the bug is.\\n\\n**To Reproduce**\\nSteps to reproduce the behavior:\\n1. Go to '...'\\n2. Click on '....'\\n3. Scroll down to '....'\\n4. See error\\n\\n**Expected behavior**\\nA clear and concise description of what you expected to happen.\\n\\n**Screenshots**\\nIf applicable, add screenshots to help explain your problem.\\n\\n**Additional context**\\nAdd any other context about the problem here.\\n\",\n",
    "  \"config_content\": \"blank_issues_enabled: false\\ncontact_links:\\n  - name: Bug Report\\n    url: https://github.com/TamerOnLine/creategit/issues/new?template=bug_report.md\\n    about: Create a report to help us improve\\n\",\n",
    "  \"dependabot_content\": \"version: 2\\nupdates:\\n  - package-ecosystem: \\\"pip\\\"\\n    directory: \\\"/\\\"\\n    schedule:\\n      interval: \\\"weekly\\\"\\n\",\n",
    "  \"pull_request_template_content\": \"# Pull Request\\n\\n## Description\\nPlease include a summary of the change and which issue is fixed.\\n\\n## Checklist:\\n\\n- [ ] My code follows the style guidelines of this project.\\n- [ ] I have performed a self-review of my code.\\n- [ ] I have commented my code, particularly in hard-to-understand areas.\\n- [ ] I have made corresponding changes to the documentation.\\n\",\n",
    "  \"code_content\": \"import os  # Importing the os module to interact with the operating system\\nimport subprocess  # Importing subprocess to run system-level commands\\n\\n# Check if the .git directory exists\\nif not os.path.isdir(\\\".git\\\"):  \\n    # If .git doesn't exist, run the git init command\\n    result = subprocess.run(\\n        [\\\"git\\\", \\\"init\\\"],  # List of command arguments: 'git init' initializes a new Git repository\\n        capture_output=True,  # Capture the standard output and error streams\\n        text=True  # Output should be captured as a string, not bytes\\n    )\\n    print(result.stdout)  # Print the standard output (stdout) of the command\\nelse:\\n    print(\\\"Git repository already initialized.\\\")  # Inform the user that the repository is already initialized\\n\",\n",
    "  \"remote_repo_content\": \"# User and repository details\\nuser = 'TamerOnLine'\\nname_git = \\\"FastAPI-Docker-Setup\\\"\\n\\ntry:\\n    # Check if the remote 'origin' exists by retrieving its URL\\n    result = subprocess.run(\\n        [\\\"git\\\", \\\"remote\\\", \\\"get-url\\\", \\\"origin\\\"],  # Command to get the URL of the remote 'origin'\\n        capture_output=True,  # Capture the output for later processing\\n        text=True,  # Return output as a string\\n        check=True  # Raise an error if the command fails\\n    )\\n    print(f\\\"Remote 'origin' already exists with URL: {result.stdout.strip()}\\\")\\n\\n    # If 'origin' exists, update its URL to the specified repository\\n    subprocess.run(\\n        [\\\"git\\\", \\\"remote\\\", \\\"set-url\\\", \\\"origin\\\", f\\\"https://github.com/{user}/{name_git}.git\\\"],\\n        check=True\\n    )\\n    print(f\\\"Updated remote 'origin' to https://github.com/{user}/{name_git}.git\\\")\\nexcept subprocess.CalledProcessError:\\n    # If 'origin' does not exist, add it with the specified URL\\n    subprocess.run(\\n        [\\\"git\\\", \\\"remote\\\", \\\"add\\\", \\\"origin\\\", f\\\"https://github.com/{user}/{name_git}.git\\\"],\\n        check=True\\n    )\\n    print(f\\\"Added remote 'origin' with URL: https://github.com/{user}/{name_git}.git\\\")\\n\",\n",
    "  \"add_files_content\": \"try:\\n    # Run the git add command to add all files\\n    subprocess.run([\\\"git\\\", \\\"add\\\", \\\".\\\"], check=True)\\n    print(\\\"All files added to the staging area successfully.\\\")\\nexcept subprocess.CalledProcessError:\\n    print(\\\"Failed to add files to the staging area.\\\")\\n\",\n",
    "  \"commit_content\": \"# Define the commit message\\ncommits = \\\"v.01\\\"\\n\\ntry:\\n    # Commit the changes with the specified commit message\\n    subprocess.run([\\\"git\\\", \\\"commit\\\", \\\"-m\\\", commits], check=True)\\n    print(f\\\"Committed changes with message: '{commits}'\\\")\\nexcept subprocess.CalledProcessError as e:\\n    print(f\\\"Failed to commit changes: {e}\\\")\\n\",\n",
    "  \"rename_branch_content\": \"try:\\n    # Rename the current branch to 'main'\\n    subprocess.run([\\\"git\\\", \\\"branch\\\", \\\"-M\\\", \\\"main\\\"], check=True)\\n    print(\\\"Branch renamed to 'main' successfully.\\\")\\nexcept subprocess.CalledProcessError as e:\\n    print(f\\\"Failed to rename the branch: {e}\\\")\\n\",\n",
    "  \"pull_content\": \"try:\\n    # Pull from the 'main' branch of 'origin' with --allow-unrelated-histories\\n    subprocess.run([\\\"git\\\", \\\"pull\\\", \\\"origin\\\", \\\"main\\\", \\\"--allow-unrelated-histories\\\"], check=True)\\n    print(\\\"Successfully pulled from 'origin/main' with --allow-unrelated-histories.\\\")\\nexcept subprocess.CalledProcessError as e:\\n    print(f\\\"Failed to pull from 'origin/main': {e}\\\")\\n\",\n",
    "  \"push_content\": \"try:\\n    # Push to the 'main' branch on 'origin' and set upstream\\n    subprocess.run([\\\"git\\\", \\\"push\\\", \\\"-u\\\", \\\"origin\\\", \\\"main\\\"], check=True)\\n    print(\\\"Successfully pushed to 'origin/main' and set upstream tracking.\\\")\\nexcept subprocess.CalledProcessError as e:\\n    print(f\\\"Failed to push to 'origin/main': {e}\\\")\\n\"\n",
    "}\n"
   ]
  },
  {
   "cell_type": "markdown",
   "metadata": {},
   "source": [
    "---"
   ]
  },
  {
   "cell_type": "markdown",
   "metadata": {},
   "source": [
    "---"
   ]
  },
  {
   "cell_type": "code",
   "execution_count": 16,
   "metadata": {},
   "outputs": [
    {
     "name": "stdout",
     "output_type": "stream",
     "text": [
      "#0 building with \"desktop-linux\" instance using docker driver\n",
      "\n",
      "#1 [fastapi-app internal] load build definition from Dockerfile\n",
      "#1 transferring dockerfile: 462B 0.0s done\n",
      "#1 DONE 0.0s\n",
      "\n",
      "#2 [fastapi-app auth] library/python:pull token for registry-1.docker.io\n",
      "#2 DONE 0.0s\n",
      "\n",
      "#3 [fastapi-app internal] load metadata for docker.io/library/python:3.9-slim\n",
      "#3 DONE 1.2s\n",
      "\n",
      "#4 [fastapi-app internal] load .dockerignore\n",
      "#4 transferring context: 2B done\n",
      "#4 DONE 0.0s\n",
      "\n",
      "#5 [fastapi-app internal] load build context\n",
      "#5 transferring context: 1.89kB done\n",
      "#5 DONE 0.0s\n",
      "\n",
      "#6 [fastapi-app 1/5] FROM docker.io/library/python:3.9-slim@sha256:7a9cd42706c174cdcf578880ab9ae3b6551323a7ddbc2a89ad6e5b20a28fbfbe\n",
      "#6 resolve docker.io/library/python:3.9-slim@sha256:7a9cd42706c174cdcf578880ab9ae3b6551323a7ddbc2a89ad6e5b20a28fbfbe 0.0s done\n",
      "#6 DONE 0.0s\n",
      "\n",
      "#7 [fastapi-app 2/5] WORKDIR /app\n",
      "#7 CACHED\n",
      "\n",
      "#8 [fastapi-app 3/5] COPY requirements.txt .\n",
      "#8 CACHED\n",
      "\n",
      "#9 [fastapi-app 4/5] RUN pip install --no-cache-dir -r requirements.txt\n",
      "#9 CACHED\n",
      "\n",
      "#10 [fastapi-app 5/5] COPY . /app\n",
      "#10 CACHED\n",
      "\n",
      "#11 [fastapi-app] exporting to image\n",
      "#11 exporting layers done\n",
      "#11 exporting manifest sha256:21febdad3a7f694e3665ced00df947e5686db04c0692bbfdd43378a035ad3e78 0.0s done\n",
      "#11 exporting config sha256:4e5d905d5c2d363b2f6e0829fbfc9670b92809f5fd1991f7d5bbe446d8478d7e 0.0s done\n",
      "#11 exporting attestation manifest sha256:a90035d07cce2151249ebc92d6cffc0095096933fab1865b66123c40c2cfdaa2\n",
      "#11 exporting attestation manifest sha256:a90035d07cce2151249ebc92d6cffc0095096933fab1865b66123c40c2cfdaa2 0.0s done\n",
      "#11 exporting manifest list sha256:a5b91a68595e9d0c4315bf92ce981a7dea14b7b917fc378119c3641f535d127d 0.0s done\n",
      "#11 naming to docker.io/library/dockerfastapi-fastapi-app:latest done\n",
      "#11 unpacking to docker.io/library/dockerfastapi-fastapi-app:latest\n",
      "#11 unpacking to docker.io/library/dockerfastapi-fastapi-app:latest 0.5s done\n",
      "#11 DONE 0.6s\n",
      "\n",
      "#12 [fastapi-app] resolving provenance for metadata file\n",
      "#12 DONE 0.0s\n"
     ]
    },
    {
     "name": "stderr",
     "output_type": "stream",
     "text": [
      " Network dockerfastapi_default  Creating\n",
      " Network dockerfastapi_default  Created\n",
      " Container dockerfastapi-fastapi-app-1  Creating\n",
      " Container dockerfastapi-fastapi-app-1  Created\n",
      " Container dockerfastapi-fastapi-app-1  Starting\n",
      " Container dockerfastapi-fastapi-app-1  Started\n"
     ]
    }
   ],
   "source": [
    "# Navigate to the directory and run docker-compose up -d\n",
    "!cd project-root/dockerfastapi && docker-compose up -d\n"
   ]
  },
  {
   "cell_type": "code",
   "execution_count": 17,
   "metadata": {},
   "outputs": [
    {
     "name": "stdout",
     "output_type": "stream",
     "text": [
      "NAME                          IMAGE                       COMMAND                  SERVICE       CREATED        STATUS                  PORTS\n",
      "dockerfastapi-fastapi-app-1   dockerfastapi-fastapi-app   \"uvicorn app.main:ap…\"   fastapi-app   1 second ago   Up Less than a second   0.0.0.0:8000->8000/tcp\n"
     ]
    }
   ],
   "source": [
    "# Change to the target directory and then run docker-compose ps\n",
    "!cd project-root/dockerfastapi && docker-compose ps\n"
   ]
  },
  {
   "cell_type": "code",
   "execution_count": 18,
   "metadata": {},
   "outputs": [
    {
     "name": "stdout",
     "output_type": "stream",
     "text": [
      "Docker version 27.2.0, build 3ab4256\n"
     ]
    }
   ],
   "source": [
    "!docker --version\n"
   ]
  }
 ],
 "metadata": {
  "kernelspec": {
   "display_name": "Python 3",
   "language": "python",
   "name": "python3"
  },
  "language_info": {
   "codemirror_mode": {
    "name": "ipython",
    "version": 3
   },
   "file_extension": ".py",
   "mimetype": "text/x-python",
   "name": "python",
   "nbconvert_exporter": "python",
   "pygments_lexer": "ipython3",
   "version": "3.13.0"
  }
 },
 "nbformat": 4,
 "nbformat_minor": 2
}
